{
 "cells": [
  {
   "cell_type": "code",
   "execution_count": 2,
   "metadata": {
    "collapsed": true
   },
   "outputs": [],
   "source": [
    "%matplotlib inline\n",
    "from collections import Counter\n",
    "from collections import defaultdict\n",
    "import pandas as pd\n",
    "import numpy as np\n",
    "import matplotlib.pyplot as plt\n",
    "import nltk\n",
    "import plotly.plotly as py"
   ]
  },
  {
   "cell_type": "code",
   "execution_count": 3,
   "metadata": {},
   "outputs": [
    {
     "data": {
      "text/plain": [
       "(39115, 11)"
      ]
     },
     "execution_count": 3,
     "metadata": {},
     "output_type": "execute_result"
    }
   ],
   "source": [
    "data = pd.read_csv('techcrunch_posts.csv')\n",
    "orgs = pd.read_csv('organizations.csv')\n",
    "people = pd.read_csv('people.csv')\n",
    "data.shape"
   ]
  },
  {
   "cell_type": "code",
   "execution_count": 4,
   "metadata": {},
   "outputs": [
    {
     "name": "stdout",
     "output_type": "stream",
     "text": [
      "\n",
      "\n",
      "Tech investing isn’t what it used to be — even compared to six months ago.\n",
      "Investors are applying greater scrutiny to deals. Many wonder if the days of the mega round that produced the likes of Snapchat, Uber and Magic Leap are fading quickly. Founders are realizing they can’t favor growth over profitability, or vice-versa — both are crucial to success. There’s a reason VCs are calling for “a return to fundamentals” — they don’t want to see newly minted unicorns shrivel into unicorpses.\n",
      "Companies need to spend their capital carefully, with an eye on steady, sustainable growth. As the pendulum continues to swing more toward smart growth, startups are naturally forced to rethink their approach to operations. Based on my experience advising portfolio companies and consulting, I believe that data-driven operations is the new table stakes for survival today. Here are a few fundamentals of data-driven ops I’d share with any company straddling that line between high-growth and sustainability.\n",
      "One of the most important decisions is choosing a set of benchmarks and metrics that will actually help you measure progress toward specific goals — whether it’s profitability or growth. Don’t reinvent the wheel — look at how other companies measured up at similar stages. If you’re an enterprise SaaS company, for example, compare yourself to other SaaS startups rather than any type of company. Another best practice is to look at the data in aggregate — don’t rely on one company’s experience. I advise portfolio companies to use cumulative data (not just anecdotal evidence), whenever possible, to inform operational decisions.\n",
      "Many VCs keep detailed data on key metrics, like employee compensation, sales & marketing spend, rent and other big expenditures. For example, Scale developed the SaaS Index, which tracks the performance of 58 companies, to benchmark the metrics key to the success of subscription-based software businesses. AngelList, PitchBook, Mattermark and CB Insights are examples of other resources that index startup metrics.\n",
      "Sales efficiency is a key indicator of sustainable growth. You need to know the levers that drive sales efficiency — whether it’s lead costs, conversion rates or sales productivity — in order to thrive and make smart decisions. Think about sales efficiency as an ecosystem that you must constantly nurture. While it’s difficult to boost your sales efficiency with any single decision or policy, it’s easy to see it slip if you’re not keeping your eye on the ball.\n",
      "In gauging sales efficiency, I recommend our portfolio companies use our Magic Number, which measures the efficiency of your go-to-market model. The Magic Number is a relatively straightforward calculation: (Revenue change x 4)/Last Quarter’s Sales and Marketing Spend. A high magic number (x>0.7) might mean it’s time to step on the growth pedal, while a low magic number (x<0.7) could indicate trouble down the road. Regardless of which situation you find yourself in, it’s important to understand your company’s financial health.\n",
      "While sales efficiency is important, there are plenty of other meaningful benchmarks and KPIs that are important for businesses to monitor. You might study customer churn, sales rep productivity or net promoter score (NPS) to gauge how your company is tracking toward its goals. It’s important that everyone on your team or company is aligned on the definitions for the KPIs you choose. Once you’ve done this, you can make sure you’re improving on those KPIs against your historical performance, as well as the benchmark universe you’ve decided on.\n",
      "Whether you think we’re headed for a downturn or not, there will always be ups and downs in the market. Right now, there is more of an emphasis on sustainability, given current uncertainty over the economy, criticism over companies that are running out of money and an uncertain IPO market.\n",
      "No matter the economic climate, you should think about incorporating data-driven benchmarking into your approach to scaling your business. Keeping a close eye on how you’re tracking against your metrics enables you to have a clear understanding of your performance, and provides you with early indicators that you are doing well or that you need to course-correct.\n"
     ]
    }
   ],
   "source": [
    "for post in data['content']:\n",
    "    print (post)\n",
    "    break"
   ]
  },
  {
   "cell_type": "code",
   "execution_count": null,
   "metadata": {
    "collapsed": true
   },
   "outputs": [],
   "source": []
  },
  {
   "cell_type": "code",
   "execution_count": 5,
   "metadata": {
    "collapsed": true
   },
   "outputs": [],
   "source": [
    "dic = {}"
   ]
  },
  {
   "cell_type": "code",
   "execution_count": 6,
   "metadata": {
    "collapsed": true
   },
   "outputs": [],
   "source": [
    "dic['Uber'] = pd.DataFrame()"
   ]
  },
  {
   "cell_type": "code",
   "execution_count": 7,
   "metadata": {
    "collapsed": true
   },
   "outputs": [],
   "source": [
    "dic['Uber'] = dic['Uber'].append(data.iloc[8])"
   ]
  },
  {
   "cell_type": "code",
   "execution_count": 8,
   "metadata": {},
   "outputs": [
    {
     "data": {
      "text/html": [
       "<div>\n",
       "<table border=\"1\" class=\"dataframe\">\n",
       "  <thead>\n",
       "    <tr style=\"text-align: right;\">\n",
       "      <th></th>\n",
       "      <th>authors</th>\n",
       "      <th>category</th>\n",
       "      <th>content</th>\n",
       "      <th>date</th>\n",
       "      <th>id</th>\n",
       "      <th>img_src</th>\n",
       "      <th>section</th>\n",
       "      <th>tags</th>\n",
       "      <th>title</th>\n",
       "      <th>topics</th>\n",
       "      <th>url</th>\n",
       "    </tr>\n",
       "  </thead>\n",
       "  <tbody>\n",
       "    <tr>\n",
       "      <th>8</th>\n",
       "      <td>Natasha Lomas</td>\n",
       "      <td>Food</td>\n",
       "      <td>The digestive tract of the ‘future of food’ do...</td>\n",
       "      <td>2016-10-13</td>\n",
       "      <td>1401205.0</td>\n",
       "      <td>https://tctechcrunch2011.files.wordpress.com/2...</td>\n",
       "      <td>startups/</td>\n",
       "      <td>soylent</td>\n",
       "      <td>Soylent Bars recalled after some customers get...</td>\n",
       "      <td>andreessen-horowitz</td>\n",
       "      <td>https://techcrunch.com/2016/10/13/soylent-bars...</td>\n",
       "    </tr>\n",
       "  </tbody>\n",
       "</table>\n",
       "</div>"
      ],
      "text/plain": [
       "         authors category                                            content  \\\n",
       "8  Natasha Lomas     Food  The digestive tract of the ‘future of food’ do...   \n",
       "\n",
       "         date         id                                            img_src  \\\n",
       "8  2016-10-13  1401205.0  https://tctechcrunch2011.files.wordpress.com/2...   \n",
       "\n",
       "     section     tags                                              title  \\\n",
       "8  startups/  soylent  Soylent Bars recalled after some customers get...   \n",
       "\n",
       "                topics                                                url  \n",
       "8  andreessen-horowitz  https://techcrunch.com/2016/10/13/soylent-bars...  "
      ]
     },
     "execution_count": 8,
     "metadata": {},
     "output_type": "execute_result"
    }
   ],
   "source": [
    "dic['Uber']"
   ]
  },
  {
   "cell_type": "code",
   "execution_count": 9,
   "metadata": {
    "collapsed": true
   },
   "outputs": [],
   "source": [
    "defdict = defaultdict(pd.DataFrame)"
   ]
  },
  {
   "cell_type": "code",
   "execution_count": 10,
   "metadata": {
    "collapsed": true
   },
   "outputs": [],
   "source": [
    "defdict['Uber'] = defdict['Uber'].append(data.loc[8])"
   ]
  },
  {
   "cell_type": "code",
   "execution_count": 11,
   "metadata": {},
   "outputs": [
    {
     "data": {
      "text/html": [
       "<div>\n",
       "<table border=\"1\" class=\"dataframe\">\n",
       "  <thead>\n",
       "    <tr style=\"text-align: right;\">\n",
       "      <th></th>\n",
       "      <th>authors</th>\n",
       "      <th>category</th>\n",
       "      <th>content</th>\n",
       "      <th>date</th>\n",
       "      <th>id</th>\n",
       "      <th>img_src</th>\n",
       "      <th>section</th>\n",
       "      <th>tags</th>\n",
       "      <th>title</th>\n",
       "      <th>topics</th>\n",
       "      <th>url</th>\n",
       "    </tr>\n",
       "  </thead>\n",
       "  <tbody>\n",
       "    <tr>\n",
       "      <th>8</th>\n",
       "      <td>Natasha Lomas</td>\n",
       "      <td>Food</td>\n",
       "      <td>The digestive tract of the ‘future of food’ do...</td>\n",
       "      <td>2016-10-13</td>\n",
       "      <td>1401205.0</td>\n",
       "      <td>https://tctechcrunch2011.files.wordpress.com/2...</td>\n",
       "      <td>startups/</td>\n",
       "      <td>soylent</td>\n",
       "      <td>Soylent Bars recalled after some customers get...</td>\n",
       "      <td>andreessen-horowitz</td>\n",
       "      <td>https://techcrunch.com/2016/10/13/soylent-bars...</td>\n",
       "    </tr>\n",
       "  </tbody>\n",
       "</table>\n",
       "</div>"
      ],
      "text/plain": [
       "         authors category                                            content  \\\n",
       "8  Natasha Lomas     Food  The digestive tract of the ‘future of food’ do...   \n",
       "\n",
       "         date         id                                            img_src  \\\n",
       "8  2016-10-13  1401205.0  https://tctechcrunch2011.files.wordpress.com/2...   \n",
       "\n",
       "     section     tags                                              title  \\\n",
       "8  startups/  soylent  Soylent Bars recalled after some customers get...   \n",
       "\n",
       "                topics                                                url  \n",
       "8  andreessen-horowitz  https://techcrunch.com/2016/10/13/soylent-bars...  "
      ]
     },
     "execution_count": 11,
     "metadata": {},
     "output_type": "execute_result"
    }
   ],
   "source": [
    "defdict['Uber']"
   ]
  },
  {
   "cell_type": "code",
   "execution_count": 12,
   "metadata": {},
   "outputs": [
    {
     "name": "stdout",
     "output_type": "stream",
     "text": [
      "Artificial intelligence continues to have its moment in the spotlight, with a surge of interest in startups and efforts from huge tech companies to push the boundaries of how we might best use machine learning, computer vision and other areas of AI in the future. The latest development on that front comes from China’s Huawei, which today announced that it would form a research partnership with UC Berkeley focused on AI, and fund it to the initial tune of $1 million.\n",
      "The alliance, between Huawei’s Noah’s Ark Laboratory and Berkeley Artificial Intelligence Research (BAIR), is being billed as a “strategic partnership into basic research”, and it will cover areas like deep learning, reinforcement learning, machine learning, natural language processing and computer vision. “The two parties believe that this strategic partnership will fuel the advancement of AI technology and create completely new experiences for people, thus contributing greatly to society at large,” Huawei notes. Some of these areas of AI you will have heard a lot about already. Machine learning has become a central part of a lot of basic large-scale computing projects, from bots to search engines and more. Computer vision is being applied in areas like facial recognition tech, AR, VR and self-driving applications. NLP is what makes services like Amazon’s Alexa, Apple’s Siri, and Microsoft’s Cortana work. Others are still in an early phase: reinforcement learning, for example, sits on top of AI systems to help them learn to make better decisions. To date it is still only being worked on by a handful of companies, so that is one key area where Huawei could potentially get a jump by partnering with a university directly. AI has become a central part of how many tech companies are thinking about their next generation of devices and services. But one of the challenges for companies like Huawei — one of the world’s biggest phone and telecoms equipment makers, and highly ambitious in the wider world of consumer electronics — is that it has become a race for talent. Competitors like Google, Apple, Amazon and Facebook have been working hard to not only develop a lot of the cutting-edge work in-house, but they have been working closely with universities, as well as snapping up companies and talent coming straight out of universities, to advance their in-house work. Google back in 2014, off the back of its acquisition of DeepMind, formed a partnership with Oxford University, contributing funding to AI research there, and acqui-hired two of the startups that had been incubated at Oxford as part of that effort. Apple has also been known to tap and buy startups that are fresh out of the research labs, such as its acquisition of Faceshift last year. And Amazon is running university competitions to lure out interesting ideas in AI. More recently, several large tech companies (pointedly not including Huawei) formed a non-profit group to explore the opportunities and pitfalls of AI. You could say that now Huawei is rising to challenge by working with researchers at Berkeley on their own AI projects. Berkeley has a history of extensive work and research in AI, and while the BAIR lab is a relatively new face for that effort, it already works with 11 other big companies as “industrial partners”, which means Huawei is not exactly getting free reign as a corporate partner. (The others are Facebook, Microsoft, Samsung, Sony, Adobe, Amazon, Yahoo Japan, Nvidia, Intel, Siemens — itself investing $1 billion into AI research — and Citris.) The lab also has 2 dozen faculty and 100 grad students. Huawei’s expressively named Noah’s Ark lab, meanwhile, has been around for about four years and is part of the company’s effort to put some $8.1 billion annually into R&D. Huawei is very focused on advancing on this front, and has over 75,000 employees working solely on R&D — perhaps one reason why MIT Technology Review named it the 10th “smartest company” in a recent survey. Maybe fittingly for an organization called Noah’s Ark, expanding research to Berkeley appears to be part of a wider remit to plant seeds for Huawei research globally: another recent outpost was created in Paris. It’s just early days, and so it remains to be seen whether Huawei can attract and bottle some of the more interesting AI tech that it will come across in this newest partnership with Berkeley. But at the very least, forging the alliance will put it in a position to try.\n"
     ]
    }
   ],
   "source": [
    "for index, rows in data.iterrows():\n",
    "    if index == 93:\n",
    "        print (rows['content'])\n",
    "        break;"
   ]
  },
  {
   "cell_type": "code",
   "execution_count": 16,
   "metadata": {},
   "outputs": [
    {
     "data": {
      "text/plain": [
       "authors                                         Zoltan Istvan\n",
       "category                                             Startups\n",
       "content                                                    \\n\n",
       "date                                               2015-10-17\n",
       "id                                                    1223837\n",
       "img_src     https://tctechcrunch2011.files.wordpress.com/2...\n",
       "section                                             startups/\n",
       "tags          robots,machine-learning,artificial-intelligence\n",
       "title       Programming Hate Into AI Will Be Controversial...\n",
       "topics                                                    NaN\n",
       "url         https://techcrunch.com/2015/10/17/programming-...\n",
       "Name: 14431, dtype: object"
      ]
     },
     "execution_count": 16,
     "metadata": {},
     "output_type": "execute_result"
    }
   ],
   "source": [
    "data.loc[14431]"
   ]
  },
  {
   "cell_type": "code",
   "execution_count": 80,
   "metadata": {
    "collapsed": true
   },
   "outputs": [],
   "source": [
    "c = []"
   ]
  },
  {
   "cell_type": "code",
   "execution_count": 81,
   "metadata": {
    "collapsed": true
   },
   "outputs": [],
   "source": [
    "c.append(0)"
   ]
  },
  {
   "cell_type": "code",
   "execution_count": 82,
   "metadata": {},
   "outputs": [
    {
     "data": {
      "text/plain": [
       "[0]"
      ]
     },
     "execution_count": 82,
     "metadata": {},
     "output_type": "execute_result"
    }
   ],
   "source": [
    "c\n"
   ]
  },
  {
   "cell_type": "code",
   "execution_count": 83,
   "metadata": {
    "collapsed": true
   },
   "outputs": [],
   "source": [
    "c.append(3)"
   ]
  },
  {
   "cell_type": "code",
   "execution_count": 84,
   "metadata": {},
   "outputs": [
    {
     "data": {
      "text/plain": [
       "[0, 3]"
      ]
     },
     "execution_count": 84,
     "metadata": {},
     "output_type": "execute_result"
    }
   ],
   "source": [
    "c"
   ]
  },
  {
   "cell_type": "code",
   "execution_count": 1,
   "metadata": {
    "collapsed": true
   },
   "outputs": [],
   "source": [
    "k = \"Prop.csv\""
   ]
  },
  {
   "cell_type": "code",
   "execution_count": 3,
   "metadata": {},
   "outputs": [
    {
     "data": {
      "text/plain": [
       "'Prop'"
      ]
     },
     "execution_count": 3,
     "metadata": {},
     "output_type": "execute_result"
    }
   ],
   "source": [
    "k.split(\".\")[0]"
   ]
  },
  {
   "cell_type": "code",
   "execution_count": 8,
   "metadata": {},
   "outputs": [
    {
     "data": {
      "text/plain": [
       "False"
      ]
     },
     "execution_count": 8,
     "metadata": {},
     "output_type": "execute_result"
    }
   ],
   "source": [
    "k == \"Prop.csvs\""
   ]
  },
  {
   "cell_type": "code",
   "execution_count": 16,
   "metadata": {
    "collapsed": true
   },
   "outputs": [],
   "source": [
    "k = \"R/GA\""
   ]
  },
  {
   "cell_type": "code",
   "execution_count": 18,
   "metadata": {},
   "outputs": [
    {
     "data": {
      "text/plain": [
       "['RGA']"
      ]
     },
     "execution_count": 18,
     "metadata": {},
     "output_type": "execute_result"
    }
   ],
   "source": [
    "k.split(\"/\")"
   ]
  },
  {
   "cell_type": "code",
   "execution_count": 34,
   "metadata": {},
   "outputs": [],
   "source": [
    "def create_safe_filename(filename):\n",
    "    # / --> #\n",
    "    # . --> $\n",
    "    name_acc = filename;\n",
    "    if '/' in filename:\n",
    "        name_acc = filename.replace('/', '#')\n",
    "    if '.' in filename:\n",
    "        name_acc = name_acc.replace('.', \"$\")\n",
    "    return name_acc"
   ]
  },
  {
   "cell_type": "code",
   "execution_count": 41,
   "metadata": {},
   "outputs": [
    {
     "data": {
      "text/plain": [
       "'VINCI'"
      ]
     },
     "execution_count": 41,
     "metadata": {},
     "output_type": "execute_result"
    }
   ],
   "source": [
    "create_safe_filename(\"VINCI\")"
   ]
  },
  {
   "cell_type": "code",
   "execution_count": 36,
   "metadata": {
    "collapsed": true
   },
   "outputs": [],
   "source": [
    "def revert_safe_filename(filename):\n",
    "    name_acc = filename\n",
    "    if '_' in filename:\n",
    "        name_acc = name_acc.replace('_', '/')\n",
    "    if '+' in filename:\n",
    "        name_acc = name_acc.replace('+', '.')\n",
    "    return name_acc"
   ]
  },
  {
   "cell_type": "code",
   "execution_count": 39,
   "metadata": {},
   "outputs": [
    {
     "data": {
      "text/plain": [
       "'POP'"
      ]
     },
     "execution_count": 39,
     "metadata": {},
     "output_type": "execute_result"
    }
   ],
   "source": [
    "revert_safe_filename(\"POP\")"
   ]
  },
  {
   "cell_type": "code",
   "execution_count": null,
   "metadata": {
    "collapsed": true
   },
   "outputs": [],
   "source": []
  }
 ],
 "metadata": {
  "kernelspec": {
   "display_name": "Python 3",
   "language": "python",
   "name": "python3"
  },
  "language_info": {
   "codemirror_mode": {
    "name": "ipython",
    "version": 3
   },
   "file_extension": ".py",
   "mimetype": "text/x-python",
   "name": "python",
   "nbconvert_exporter": "python",
   "pygments_lexer": "ipython3",
   "version": "3.5.2"
  }
 },
 "nbformat": 4,
 "nbformat_minor": 2
}
